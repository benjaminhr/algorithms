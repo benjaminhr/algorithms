{
 "cells": [
  {
   "cell_type": "markdown",
   "metadata": {},
   "source": [
    "# Lecture 2: Sorting, Running Time and Complexity"
   ]
  },
  {
   "cell_type": "markdown",
   "metadata": {},
   "source": [
    "#### Question 1\n",
    "\n",
    "1. O(log(n))\n",
    "2. O(1)\n",
    "3. O(2^n)\n",
    "4. O(n^50)\n",
    "\n",
    "O(n^6) = O(n^n)"
   ]
  },
  {
   "cell_type": "markdown",
   "metadata": {},
   "source": [
    "#### Question 2"
   ]
  },
  {
   "cell_type": "code",
   "execution_count": 2,
   "metadata": {},
   "outputs": [
    {
     "data": {
      "text/plain": [
       "[3, 9, 6, 0, 1]"
      ]
     },
     "execution_count": 2,
     "metadata": {},
     "output_type": "execute_result"
    }
   ],
   "source": [
    "import random\n",
    "\n",
    "def randomIntArray(s,n):\n",
    "    return [random.randint(0,n) for _ in range(s)]\n",
    "\n",
    "randomIntArray(5, 10)"
   ]
  },
  {
   "cell_type": "markdown",
   "metadata": {},
   "source": [
    "#### Question 3"
   ]
  },
  {
   "cell_type": "code",
   "execution_count": 2,
   "metadata": {},
   "outputs": [
    {
     "name": "stdout",
     "output_type": "stream",
     "text": [
      "1.3828277587890625e-05\n",
      "3.814697265625e-06\n",
      "0.04913616180419922\n"
     ]
    }
   ],
   "source": [
    "import time\n",
    "\n",
    "def findMin(i, A):\n",
    "    iMin = i \n",
    "    for j in range(i + 1, len(A)): \n",
    "        if A[j] > A[iMin]: \n",
    "            iMin = j\n",
    "    \n",
    "    return iMin\n",
    "\n",
    "def swap(i, imin, A): \n",
    "    temp = A[i]\n",
    "    A[i] = A[imin]\n",
    "    A[imin] = temp\n",
    "\n",
    "def selectionSort(A): \n",
    "    for i in range(len(A)):\n",
    "        imin = findMin(i, A)\n",
    "        swap(i, imin, A)\n",
    "\n",
    "def sortTime(A):\n",
    "    t1 = time.time()\n",
    "    \n",
    "    selectionSort(A)\n",
    "    \n",
    "    return time.time() - t1\n",
    "    \n",
    "print(sortTime([5,3,24,7,8,81,1]))\n",
    "print(sortTime([]))\n",
    "print(sortTime([i for i in range(0, 1000)]))"
   ]
  },
  {
   "cell_type": "markdown",
   "metadata": {},
   "source": [
    "#### Question 4\n",
    "\n",
    "- Array length: 10, Time: 1.9311904907226562e-05s\n",
    "- Array length: 100, Time: 0.00046181678771972656\n",
    "- Array length: 1000, Time: 0.04647207260131836\n",
    "- Array length: 10000, Time: 4.168348789215088\n",
    "- Array length: 100000, Time: "
   ]
  },
  {
   "cell_type": "code",
   "execution_count": null,
   "metadata": {},
   "outputs": [],
   "source": [
    "import random\n",
    "import time\n",
    "\n",
    "def randomIntArray(s,n):\n",
    "    return [random.randint(0,n) for _ in range(s)]\n",
    "\n",
    "def findMin(i, A):\n",
    "    iMin = i \n",
    "    for j in range(i + 1, len(A)): \n",
    "        if A[j] > A[iMin]: \n",
    "            iMin = j\n",
    "    \n",
    "    return iMin\n",
    "\n",
    "def swap(i, imin, A): \n",
    "    temp = A[i]\n",
    "    A[i] = A[imin]\n",
    "    A[imin] = temp\n",
    "\n",
    "def selectionSort(A): \n",
    "    for i in range(len(A)):\n",
    "        imin = findMin(i, A)\n",
    "        swap(i, imin, A)\n",
    "\n",
    "def sortTime(A):\n",
    "    t1 = time.time()\n",
    "    \n",
    "    selectionSort(A)\n",
    "    \n",
    "    return time.time() - t1\n",
    "\n",
    "# Random arrays\n",
    "a10 = randomIntArray(10, 10)\n",
    "a100 = randomIntArray(100, 10)\n",
    "a1000 = randomIntArray(1000, 10)\n",
    "a10000 = randomIntArray(10000, 10)\n",
    "a100000 = randomIntArray(100000, 10)\n",
    "\n",
    "# Sort random array times\n",
    "timeA10 = sortTime(a10)\n",
    "timeA100 = sortTime(a100)\n",
    "timeA1000 = sortTime(a1000)\n",
    "timeA10000 = sortTime(a10000)\n",
    "timeA100000 = sortTime(a100000)\n",
    "\n",
    "print(timeA10)\n",
    "print(timeA100)\n",
    "print(timeA1000)\n",
    "print(timeA10000)\n",
    "print(timeA100000)"
   ]
  },
  {
   "cell_type": "code",
   "execution_count": 82,
   "metadata": {},
   "outputs": [
    {
     "name": "stdout",
     "output_type": "stream",
     "text": [
      "[1, 2, 3, 4]\n",
      "[1, 1, 1, 1, 1, 1, 3, 3, 3, 4, 4, 5, 5, 5, 5, 5, 6, 7, 11, 12, 21, 41, 65, 656]\n",
      "[]\n",
      "[1, 2, 3]\n"
     ]
    }
   ],
   "source": [
    "def selectionSort(A):\n",
    "    for i in range(len(A)):\n",
    "        imin = findMin(i,A)\n",
    "        swap(i,imin,A)\n",
    "\n",
    "def findMin(i, A):\n",
    "    imin = i\n",
    "    for j in range(i+1,len(A)):\n",
    "        if A[j] < A[imin]: \n",
    "            imin = j\n",
    "    return imin\n",
    "\n",
    "def swap(i, j, A):\n",
    "    tmp = A[i]\n",
    "    A[i] = A[j]\n",
    "    A[j] = tmp\n",
    "    \n",
    "A = [2,1,4,3]    \n",
    "selectionSort(A)\n",
    "print(A)\n",
    "A = [3,21,65,1,3,1,3,4,5,11,5,656,5,1,1,5,1,41,1,4,5,6,7,12]\n",
    "selectionSort(A)\n",
    "print(A)\n",
    "A = []\n",
    "selectionSort(A)\n",
    "print(A)\n",
    "A = [1,2,3]\n",
    "selectionSort(A)\n",
    "print(A)"
   ]
  },
  {
   "cell_type": "code",
   "execution_count": 4,
   "metadata": {},
   "outputs": [
    {
     "name": "stdout",
     "output_type": "stream",
     "text": [
      "[1, 2, 3, 4]\n",
      "[1, 1, 1, 1, 1, 1, 3, 3, 3, 4, 4, 5, 5, 5, 5, 5, 6, 7, 11, 12, 21, 41, 65, 656]\n",
      "[]\n",
      "[1, 2, 3]\n"
     ]
    }
   ],
   "source": [
    "def insertionSort(A):\n",
    "    for i in range(1,len(A)):\n",
    "        insert(A[i],A,i)\n",
    "\n",
    "def insert(k, A, hi):\n",
    "    for i in range (hi-1,-1,-1):\n",
    "        if k >= A[i]:\n",
    "            A[i+1] = k\n",
    "            return\n",
    "        A[i+1] = A[i]\n",
    "    A[0] = k\n",
    "\n",
    "A = [2,1,4,3]    \n",
    "insertionSort(A)\n",
    "print(A)\n",
    "A = [3,21,65,1,3,1,3,4,5,11,5,656,5,1,1,5,1,41,1,4,5,6,7,12]\n",
    "insertionSort(A)\n",
    "print(A)\n",
    "A = []\n",
    "insertionSort(A)\n",
    "print(A)\n",
    "A = [1,2,3]\n",
    "insertionSort(A)\n",
    "print(A)"
   ]
  },
  {
   "cell_type": "code",
   "execution_count": 6,
   "metadata": {},
   "outputs": [
    {
     "name": "stdout",
     "output_type": "stream",
     "text": [
      "4\n",
      "4\n",
      "6\n",
      "0\n",
      "5\n",
      "0\n",
      "-1\n",
      "-1\n"
     ]
    }
   ],
   "source": [
    "def sortedSearch(A, n):\n",
    "    for i in range(len(A)):\n",
    "        if A[i] == n:\n",
    "            return i\n",
    "        if A[i] > n:\n",
    "            return -1\n",
    "    return -1\n",
    "\n",
    "print(sortedSearch([1,2,3,4,5,6],5))\n",
    "print(sortedSearch([1,2,3,4,5,6,7],5))\n",
    "print(sortedSearch([1,2,3,4,5,6,7],7))\n",
    "print(sortedSearch([1,2,3,4,5,6,7],1))\n",
    "print(sortedSearch([1,2,3,4,5,6],6))\n",
    "print(sortedSearch([1,2,3,4,5,6],1))\n",
    "print(sortedSearch([1,2,3,4,5,6],0))\n",
    "print(sortedSearch([1,2,3,4,5,6,7],0))  "
   ]
  },
  {
   "cell_type": "code",
   "execution_count": 5,
   "metadata": {},
   "outputs": [
    {
     "name": "stdout",
     "output_type": "stream",
     "text": [
      "-1\n",
      "4\n",
      "4\n",
      "6\n",
      "0\n",
      "5\n",
      "0\n",
      "-1\n",
      "-1\n"
     ]
    }
   ],
   "source": [
    "def sortedSearch2(A, n):\n",
    "    if A == []: return -1\n",
    "    for i in range(len(A)):\n",
    "        if A[i] >= n:\n",
    "            break\n",
    "    if A[i] == n: return i\n",
    "    return -1\n",
    "\n",
    "print(sortedSearch2([],0))\n",
    "print(sortedSearch2([1,2,3,4,5,6],5))\n",
    "print(sortedSearch2([1,2,3,4,5,6,7],5))\n",
    "print(sortedSearch2([1,2,3,4,5,6,7],7))\n",
    "print(sortedSearch2([1,2,3,4,5,6,7],1))\n",
    "print(sortedSearch2([1,2,3,4,5,6],6))\n",
    "print(sortedSearch2([1,2,3,4,5,6],1))\n",
    "print(sortedSearch2([1,2,3,4,5,6],0))\n",
    "print(sortedSearch2([1,2,3,4,5,6,7],0))  "
   ]
  },
  {
   "cell_type": "code",
   "execution_count": 6,
   "metadata": {},
   "outputs": [
    {
     "name": "stdout",
     "output_type": "stream",
     "text": [
      "4\n",
      "4\n",
      "6\n",
      "0\n",
      "5\n",
      "0\n",
      "-1\n",
      "-1\n"
     ]
    }
   ],
   "source": [
    "def binSearch(A, n):\n",
    "    low = 0\n",
    "    high = len(A)-1\n",
    "    while (low <= high):\n",
    "        mid = (low+high)//2\n",
    "        if A[mid] == n:\n",
    "            return mid\n",
    "        elif A[mid] < n:\n",
    "            low = mid+1\n",
    "        else:\n",
    "            high = mid-1\n",
    "    return -1\n",
    "\n",
    "print(binSearch([1,2,3,4,5,6],5))\n",
    "print(binSearch([1,2,3,4,5,6,7],5))\n",
    "print(binSearch([1,2,3,4,5,6,7],7))\n",
    "print(binSearch([1,2,3,4,5,6,7],1))\n",
    "print(binSearch([1,2,3,4,5,6],6))\n",
    "print(binSearch([1,2,3,4,5,6],1))\n",
    "print(binSearch([1,2,3,4,5,6],0))\n",
    "print(binSearch([1,2,3,4,5,6,7],0))"
   ]
  }
 ],
 "metadata": {
  "kernelspec": {
   "display_name": "Python 3",
   "language": "python",
   "name": "python3"
  },
  "language_info": {
   "codemirror_mode": {
    "name": "ipython",
    "version": 3
   },
   "file_extension": ".py",
   "mimetype": "text/x-python",
   "name": "python",
   "nbconvert_exporter": "python",
   "pygments_lexer": "ipython3",
   "version": "3.7.3"
  }
 },
 "nbformat": 4,
 "nbformat_minor": 2
}
