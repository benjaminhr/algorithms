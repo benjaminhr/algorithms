{
 "cells": [
  {
   "cell_type": "code",
   "execution_count": 24,
   "metadata": {},
   "outputs": [
    {
     "data": {
      "text/plain": [
       "Exception('index -1 out of bounds!')"
      ]
     },
     "execution_count": 24,
     "metadata": {},
     "output_type": "execute_result"
    }
   ],
   "source": [
    "class ArrayList:\n",
    "    def __init__(self):\n",
    "        self.inArray = [0 for i in range(10)]\n",
    "        self.count = 0\n",
    "        \n",
    "    def get(self, i):\n",
    "        try:\n",
    "            self._checkBounds(i, len(self.inArray))\n",
    "            return self.inArray[i]\n",
    "        except Exception as e:\n",
    "            return e\n",
    "\n",
    "    def set(self, i, e):\n",
    "        try:\n",
    "            self._checkBounds(i, len(self.inArray))\n",
    "            self.inArray[i] = e\n",
    "        except Exception as e:\n",
    "            return e  \n",
    "\n",
    "    def length(self):\n",
    "        return self.count        \n",
    "\n",
    "    def append(self, e):\n",
    "        self.inArray[self.count] = e\n",
    "        self.count += 1\n",
    "        if len(self.inArray) == self.count:\n",
    "            self._resizeUp()\n",
    "    \n",
    "    def appendAll(self, A):\n",
    "        for i in range(len(A)):\n",
    "            self.append(A[i])\n",
    "\n",
    "    def insert(self, i, e):\n",
    "        try:\n",
    "            self._checkBounds(i, len(self.inArray))\n",
    "\n",
    "            for j in range(self.count,i,-1):\n",
    "                self.inArray[j] = self.inArray[j-1]\n",
    "                \n",
    "            self.inArray[i] = e\n",
    "            self.count += 1\n",
    "            \n",
    "            if len(self.inArray) == self.count:\n",
    "                self._resizeUp()\n",
    "                \n",
    "        except Exception as e:\n",
    "            return e\n",
    "        \n",
    "        \n",
    "    \n",
    "    def remove(self, i):\n",
    "        val = self.inArray[i]\n",
    "        for j in range(i, self.count):\n",
    "            self.inArray[j] = self.inArray[j+1]\n",
    "        \n",
    "        self.count -= 1\n",
    "        return val\n",
    "\n",
    "    def removeVal(self, e):        \n",
    "        for i in range(self.count):\n",
    "            if self.inArray[i] == e:\n",
    "                self.remove(i)\n",
    "                return True\n",
    "        return False\n",
    "\n",
    "    def _resizeUp(self):\n",
    "        newArray = [0 for i in range(2*len(self.inArray))]\n",
    "        for j in range(len(self.inArray)):\n",
    "            newArray[j] = self.inArray[j]\n",
    "        self.inArray = newArray\n",
    "        \n",
    "    def _checkBounds(self, i, hi):  # checks whether i is in [0,hi]\n",
    "        if i < 0 or i > hi:\n",
    "            raise Exception(\"index \"+str(i)+\" out of bounds!\")\n",
    "    \n",
    "    def clone(self):\n",
    "        newList = ArrayList()\n",
    "        for i in range(self.count):\n",
    "            el = self.inArray[i]\n",
    "            newList.append(el)\n",
    "        return newList\n",
    "    \n",
    "    def toArray(self):\n",
    "        arr = [self.inArray[i] for i in range(self.count)]\n",
    "        return arr\n",
    "\n",
    "A = ArrayList()\n",
    "A.append(1)\n",
    "A.append(2)\n",
    "A.get(-1)\n"
   ]
  },
  {
   "cell_type": "code",
   "execution_count": 21,
   "metadata": {},
   "outputs": [],
   "source": [
    "class PQElement:\n",
    "    def __init__(self, v, p):\n",
    "        self.val = v\n",
    "        self.priority = p\n",
    "        \n",
    "    def __str__(self):\n",
    "        return \"(\"+str(self.val)+\",\"+str(self.priority)+\")\""
   ]
  }
 ],
 "metadata": {
  "kernelspec": {
   "display_name": "Python 3",
   "language": "python",
   "name": "python3"
  },
  "language_info": {
   "codemirror_mode": {
    "name": "ipython",
    "version": 3
   },
   "file_extension": ".py",
   "mimetype": "text/x-python",
   "name": "python",
   "nbconvert_exporter": "python",
   "pygments_lexer": "ipython3",
   "version": "3.7.3"
  }
 },
 "nbformat": 4,
 "nbformat_minor": 2
}
