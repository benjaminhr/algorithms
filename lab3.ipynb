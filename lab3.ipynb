{
 "cells": [
  {
   "cell_type": "markdown",
   "metadata": {},
   "source": [
    "# Lecture 2: Sorting, Running Time and Complexity"
   ]
  },
  {
   "cell_type": "code",
   "execution_count": 82,
   "metadata": {},
   "outputs": [
    {
     "name": "stdout",
     "output_type": "stream",
     "text": [
      "[1, 2, 3, 4]\n",
      "[1, 1, 1, 1, 1, 1, 3, 3, 3, 4, 4, 5, 5, 5, 5, 5, 6, 7, 11, 12, 21, 41, 65, 656]\n",
      "[]\n",
      "[1, 2, 3]\n"
     ]
    }
   ],
   "source": [
    "def selectionSort(A):\n",
    "    for i in range(len(A)):\n",
    "        imin = findMin(i,A)\n",
    "        swap(i,imin,A)\n",
    "\n",
    "def findMin(i, A):\n",
    "    imin = i\n",
    "    for j in range(i+1,len(A)):\n",
    "        if A[j] < A[imin]: \n",
    "            imin = j\n",
    "    return imin\n",
    "\n",
    "def swap(i, j, A):\n",
    "    tmp = A[i]\n",
    "    A[i] = A[j]\n",
    "    A[j] = tmp\n",
    "    \n",
    "A = [2,1,4,3]    \n",
    "selectionSort(A)\n",
    "print(A)\n",
    "A = [3,21,65,1,3,1,3,4,5,11,5,656,5,1,1,5,1,41,1,4,5,6,7,12]\n",
    "selectionSort(A)\n",
    "print(A)\n",
    "A = []\n",
    "selectionSort(A)\n",
    "print(A)\n",
    "A = [1,2,3]\n",
    "selectionSort(A)\n",
    "print(A)"
   ]
  },
  {
   "cell_type": "code",
   "execution_count": 4,
   "metadata": {},
   "outputs": [
    {
     "name": "stdout",
     "output_type": "stream",
     "text": [
      "[1, 2, 3, 4]\n",
      "[1, 1, 1, 1, 1, 1, 3, 3, 3, 4, 4, 5, 5, 5, 5, 5, 6, 7, 11, 12, 21, 41, 65, 656]\n",
      "[]\n",
      "[1, 2, 3]\n"
     ]
    }
   ],
   "source": [
    "def insertionSort(A):\n",
    "    for i in range(1,len(A)):\n",
    "        insert(A[i],A,i)\n",
    "\n",
    "def insert(k, A, hi):\n",
    "    for i in range (hi-1,-1,-1):\n",
    "        if k >= A[i]:\n",
    "            A[i+1] = k\n",
    "            return\n",
    "        A[i+1] = A[i]\n",
    "    A[0] = k\n",
    "\n",
    "A = [2,1,4,3]    \n",
    "insertionSort(A)\n",
    "print(A)\n",
    "A = [3,21,65,1,3,1,3,4,5,11,5,656,5,1,1,5,1,41,1,4,5,6,7,12]\n",
    "insertionSort(A)\n",
    "print(A)\n",
    "A = []\n",
    "insertionSort(A)\n",
    "print(A)\n",
    "A = [1,2,3]\n",
    "insertionSort(A)\n",
    "print(A)"
   ]
  },
  {
   "cell_type": "code",
   "execution_count": 5,
   "metadata": {},
   "outputs": [
    {
     "name": "stdout",
     "output_type": "stream",
     "text": [
      "-1\n",
      "4\n",
      "4\n",
      "6\n",
      "0\n",
      "5\n",
      "0\n",
      "-1\n",
      "-1\n"
     ]
    }
   ],
   "source": [
    "def sortedSearch2(A, n):\n",
    "    if A == []: return -1\n",
    "    for i in range(len(A)):\n",
    "        if A[i] >= n:\n",
    "            break\n",
    "    if A[i] == n: return i\n",
    "    return -1\n",
    "\n",
    "print(sortedSearch2([],0))\n",
    "print(sortedSearch2([1,2,3,4,5,6],5))\n",
    "print(sortedSearch2([1,2,3,4,5,6,7],5))\n",
    "print(sortedSearch2([1,2,3,4,5,6,7],7))\n",
    "print(sortedSearch2([1,2,3,4,5,6,7],1))\n",
    "print(sortedSearch2([1,2,3,4,5,6],6))\n",
    "print(sortedSearch2([1,2,3,4,5,6],1))\n",
    "print(sortedSearch2([1,2,3,4,5,6],0))\n",
    "print(sortedSearch2([1,2,3,4,5,6,7],0))  "
   ]
  },
  {
   "cell_type": "code",
   "execution_count": 6,
   "metadata": {},
   "outputs": [
    {
     "name": "stdout",
     "output_type": "stream",
     "text": [
      "4\n",
      "4\n",
      "6\n",
      "0\n",
      "5\n",
      "0\n",
      "-1\n",
      "-1\n"
     ]
    }
   ],
   "source": [
    "def binSearch(A, n):\n",
    "    low = 0\n",
    "    high = len(A)-1\n",
    "    while (low <= high):\n",
    "        mid = (low+high)//2\n",
    "        if A[mid] == n:\n",
    "            return mid\n",
    "        elif A[mid] < n:\n",
    "            low = mid+1\n",
    "        else:\n",
    "            high = mid-1\n",
    "    return -1\n",
    "\n",
    "print(binSearch([1,2,3,4,5,6],5))\n",
    "print(binSearch([1,2,3,4,5,6,7],5))\n",
    "print(binSearch([1,2,3,4,5,6,7],7))\n",
    "print(binSearch([1,2,3,4,5,6,7],1))\n",
    "print(binSearch([1,2,3,4,5,6],6))\n",
    "print(binSearch([1,2,3,4,5,6],1))\n",
    "print(binSearch([1,2,3,4,5,6],0))\n",
    "print(binSearch([1,2,3,4,5,6,7],0))"
   ]
  },
  {
   "cell_type": "code",
   "execution_count": 6,
   "metadata": {},
   "outputs": [
    {
     "name": "stdout",
     "output_type": "stream",
     "text": [
      "4\n",
      "4\n",
      "6\n",
      "0\n",
      "5\n",
      "0\n",
      "-1\n",
      "-1\n"
     ]
    }
   ],
   "source": [
    "def sortedSearch(A, n):\n",
    "    for i in range(len(A)):\n",
    "        if A[i] == n:\n",
    "            return i\n",
    "        if A[i] > n:\n",
    "            return -1\n",
    "    return -1\n",
    "\n",
    "print(sortedSearch([1,2,3,4,5,6],5))\n",
    "print(sortedSearch([1,2,3,4,5,6,7],5))\n",
    "print(sortedSearch([1,2,3,4,5,6,7],7))\n",
    "print(sortedSearch([1,2,3,4,5,6,7],1))\n",
    "print(sortedSearch([1,2,3,4,5,6],6))\n",
    "print(sortedSearch([1,2,3,4,5,6],1))\n",
    "print(sortedSearch([1,2,3,4,5,6],0))\n",
    "print(sortedSearch([1,2,3,4,5,6,7],0))  "
   ]
  },
  {
   "cell_type": "markdown",
   "metadata": {},
   "source": [
    "#### Question 1\n",
    "\n",
    "1. O(log(n))\n",
    "2. O(1)\n",
    "3. O(n)\n",
    "4. O(2^n)\n",
    "\n",
    "O(n^6) = O(n^n)"
   ]
  },
  {
   "cell_type": "markdown",
   "metadata": {},
   "source": [
    "#### Question 2"
   ]
  },
  {
   "cell_type": "code",
   "execution_count": 2,
   "metadata": {},
   "outputs": [
    {
     "data": {
      "text/plain": [
       "[8, 1, 0, 3, 6]"
      ]
     },
     "execution_count": 2,
     "metadata": {},
     "output_type": "execute_result"
    }
   ],
   "source": [
    "import random\n",
    "\n",
    "def randomIntArray(s,n):\n",
    "    return [random.randint(0,n) for _ in range(s)]\n",
    "\n",
    "randomIntArray(5, 10)"
   ]
  },
  {
   "cell_type": "markdown",
   "metadata": {},
   "source": [
    "#### Question 3"
   ]
  },
  {
   "cell_type": "code",
   "execution_count": 2,
   "metadata": {},
   "outputs": [
    {
     "name": "stdout",
     "output_type": "stream",
     "text": [
      "1.3828277587890625e-05\n",
      "3.814697265625e-06\n",
      "0.04913616180419922\n"
     ]
    }
   ],
   "source": [
    "import time\n",
    "\n",
    "def findMin(i, A):\n",
    "    iMin = i \n",
    "    for j in range(i + 1, len(A)): \n",
    "        if A[j] > A[iMin]: \n",
    "            iMin = j\n",
    "    \n",
    "    return iMin\n",
    "\n",
    "def swap(i, imin, A): \n",
    "    temp = A[i]\n",
    "    A[i] = A[imin]\n",
    "    A[imin] = temp\n",
    "\n",
    "def selectionSort(A): \n",
    "    for i in range(len(A)):\n",
    "        imin = findMin(i, A)\n",
    "        swap(i, imin, A)\n",
    "\n",
    "def sortTime(A):\n",
    "    t1 = time.time()\n",
    "    \n",
    "    selectionSort(A)\n",
    "    \n",
    "    return time.time() - t1\n",
    "    \n",
    "print(sortTime([5,3,24,7,8,81,1]))\n",
    "print(sortTime([]))\n",
    "print(sortTime([i for i in range(0, 1000)]))"
   ]
  },
  {
   "cell_type": "markdown",
   "metadata": {},
   "source": [
    "#### Question 4\n",
    "\n",
    "- Array length: 10, Time: 1.9311904907226562e-05s\n",
    "- Array length: 100, Time: 0.00046181678771972656\n",
    "- Array length: 1000, Time: 0.04647207260131836\n",
    "- Array length: 10000, Time: 4.168348789215088"
   ]
  },
  {
   "cell_type": "code",
   "execution_count": 3,
   "metadata": {},
   "outputs": [
    {
     "name": "stdout",
     "output_type": "stream",
     "text": [
      "2.09808349609375e-05\n",
      "0.00048279762268066406\n",
      "0.048210859298706055\n",
      "4.175994157791138\n"
     ]
    }
   ],
   "source": [
    "import time\n",
    "\n",
    "def findMin(i, A):\n",
    "    iMin = i \n",
    "    for j in range(i + 1, len(A)): \n",
    "        if A[j] > A[iMin]: \n",
    "            iMin = j\n",
    "    \n",
    "    return iMin\n",
    "\n",
    "def swap(i, imin, A): \n",
    "    temp = A[i]\n",
    "    A[i] = A[imin]\n",
    "    A[imin] = temp\n",
    "\n",
    "def selectionSort(A): \n",
    "    for i in range(len(A)):\n",
    "        imin = findMin(i, A)\n",
    "        swap(i, imin, A)\n",
    "\n",
    "def sortTime(A):\n",
    "    t1 = time.time()\n",
    "    \n",
    "    selectionSort(A)\n",
    "    \n",
    "    return time.time() - t1\n",
    "\n",
    "# Random arrays\n",
    "a10 = randomIntArray(10, 10)\n",
    "a100 = randomIntArray(100, 10)\n",
    "a1000 = randomIntArray(1000, 10)\n",
    "a10000 = randomIntArray(10000, 10)\n",
    "\n",
    "# Sort random array times\n",
    "timeA10 = sortTime(a10)\n",
    "timeA100 = sortTime(a100)\n",
    "timeA1000 = sortTime(a1000)\n",
    "timeA10000 = sortTime(a10000)\n",
    "\n",
    "print(timeA10)\n",
    "print(timeA100)\n",
    "print(timeA1000)\n",
    "print(timeA10000)"
   ]
  },
  {
   "cell_type": "markdown",
   "metadata": {},
   "source": [
    "#### Question 5\n",
    "\n",
    "- 10 Elements:\n",
    "    - Insertion sort: 1.5020370483398438e-05\n",
    "    - Selection sort: 2.09808349609375e-05\n",
    "    \n",
    "- 100 Elements:\n",
    "    - Insertion sort: 0.0003490447998046875\n",
    "    - Selection sort: 0.00045800209045410156\n",
    "    \n",
    "- 1000 Elements:\n",
    "    - Insertion sort: 0.03224897384643555\n",
    "    - Selection sort: 0.04127788543701172\n",
    "    \n",
    "- 10000 Elements:\n",
    "    - Insertion sort: 3.085554838180542\n",
    "    - Selection sort: 3.708811044692993"
   ]
  },
  {
   "cell_type": "code",
   "execution_count": 1,
   "metadata": {},
   "outputs": [
    {
     "ename": "NameError",
     "evalue": "name 'randomIntArray' is not defined",
     "output_type": "error",
     "traceback": [
      "\u001b[0;31m---------------------------------------------------------------------------\u001b[0m",
      "\u001b[0;31mNameError\u001b[0m                                 Traceback (most recent call last)",
      "\u001b[0;32m<ipython-input-1-8f219c922a76>\u001b[0m in \u001b[0;36m<module>\u001b[0;34m\u001b[0m\n\u001b[1;32m     45\u001b[0m \u001b[0;34m\u001b[0m\u001b[0m\n\u001b[1;32m     46\u001b[0m \u001b[0;31m# Random arrays\u001b[0m\u001b[0;34m\u001b[0m\u001b[0;34m\u001b[0m\u001b[0;34m\u001b[0m\u001b[0m\n\u001b[0;32m---> 47\u001b[0;31m \u001b[0ma10\u001b[0m \u001b[0;34m=\u001b[0m \u001b[0mrandomIntArray\u001b[0m\u001b[0;34m(\u001b[0m\u001b[0;36m10\u001b[0m\u001b[0;34m,\u001b[0m \u001b[0;36m10\u001b[0m\u001b[0;34m)\u001b[0m\u001b[0;34m\u001b[0m\u001b[0;34m\u001b[0m\u001b[0m\n\u001b[0m\u001b[1;32m     48\u001b[0m \u001b[0ma100\u001b[0m \u001b[0;34m=\u001b[0m \u001b[0mrandomIntArray\u001b[0m\u001b[0;34m(\u001b[0m\u001b[0;36m100\u001b[0m\u001b[0;34m,\u001b[0m \u001b[0;36m10\u001b[0m\u001b[0;34m)\u001b[0m\u001b[0;34m\u001b[0m\u001b[0;34m\u001b[0m\u001b[0m\n\u001b[1;32m     49\u001b[0m \u001b[0ma1000\u001b[0m \u001b[0;34m=\u001b[0m \u001b[0mrandomIntArray\u001b[0m\u001b[0;34m(\u001b[0m\u001b[0;36m1000\u001b[0m\u001b[0;34m,\u001b[0m \u001b[0;36m10\u001b[0m\u001b[0;34m)\u001b[0m\u001b[0;34m\u001b[0m\u001b[0;34m\u001b[0m\u001b[0m\n",
      "\u001b[0;31mNameError\u001b[0m: name 'randomIntArray' is not defined"
     ]
    }
   ],
   "source": [
    "def findMin(i, A): \n",
    "    imin = i \n",
    "    \n",
    "    for j in range(i + 1, len(A)):\n",
    "        if A[j] > A[imin]:\n",
    "            imin = j\n",
    "            \n",
    "    return imin\n",
    "\n",
    "def swap(i, j, A): \n",
    "    temp = A[i]\n",
    "    A[i] = A[j]\n",
    "    A[j] = temp\n",
    "\n",
    "def selectionSort(A):\n",
    "    for i in range(len(A)):\n",
    "        imin = findMin(i, A)\n",
    "        swap(i, imin, A)\n",
    "    \n",
    "    return A\n",
    "\n",
    "\n",
    "def insert(curr, A, hi):\n",
    "    for i in range(hi - 1, -1, -1): \n",
    "        if curr >= A[i]:\n",
    "            A[i + 1] = curr\n",
    "            return\n",
    "        \n",
    "        A[i + 1] = A[i]\n",
    "    \n",
    "    A[0] = curr\n",
    "\n",
    "def insertionSort(A):\n",
    "    for i in range(len(A)):\n",
    "        insert(A[i], A, i)\n",
    "\n",
    "        \n",
    "def sortTimeUsing(sortf, A):\n",
    "    t1 = time.time()\n",
    "    \n",
    "    sortf(A)\n",
    "    \n",
    "    t2 = time.time()\n",
    "    return t2 - t1\n",
    "\n",
    "# Random arrays\n",
    "a10 = randomIntArray(10, 10)\n",
    "a100 = randomIntArray(100, 10)\n",
    "a1000 = randomIntArray(1000, 10)\n",
    "a10000 = randomIntArray(10000, 10)\n",
    "\n",
    "# Sort random array times\n",
    "timeA10Insert = sortTimeUsing(insertionSort, a10)\n",
    "timeA10Selection = sortTimeUsing(selectionSort, a10)\n",
    "\n",
    "timeA100Insert = sortTimeUsing(insertionSort, a100)\n",
    "timeA100Selection = sortTimeUsing(selectionSort, a100)\n",
    "\n",
    "timeA1000Insert = sortTimeUsing(insertionSort, a1000)\n",
    "timeA1000Selection = sortTimeUsing(selectionSort, a1000)\n",
    "\n",
    "timeA10000Insert = sortTimeUsing(insertionSort, a10000)\n",
    "timeA10000Selection = sortTimeUsing(selectionSort, a10000)\n",
    "\n",
    "print(timeA10Insert, timeA10Selection)\n",
    "print(timeA100Insert, timeA100Selection)\n",
    "print(timeA1000Insert, timeA1000Selection)\n",
    "print(timeA10000Insert, timeA10000Selection)"
   ]
  },
  {
   "cell_type": "markdown",
   "metadata": {},
   "source": [
    "#### Question 6"
   ]
  },
  {
   "cell_type": "code",
   "execution_count": 29,
   "metadata": {},
   "outputs": [
    {
     "name": "stdout",
     "output_type": "stream",
     "text": [
      "23\n",
      "9\n",
      "45\n"
     ]
    }
   ],
   "source": [
    "def insert(curr, A, hi):\n",
    "    comp = 0\n",
    "    \n",
    "    for i in range(hi - 1, -1, -1):   \n",
    "        comp += 1\n",
    "        \n",
    "        if curr >= A[i]:\n",
    "            A[i + 1] = curr\n",
    "            return comp\n",
    "        \n",
    "        A[i + 1] = A[i]\n",
    "    \n",
    "    A[0] = curr\n",
    "    return comp\n",
    "\n",
    "def insertionSort(A):\n",
    "    comparisons = 0 \n",
    "    \n",
    "    for i in range(len(A)):\n",
    "        comparisons += insert(A[i], A, i)\n",
    "        \n",
    "    return comparisons\n",
    "\n",
    "comp1 = insertionSort([2,4,6,8,10,1,3,5,7,9])\n",
    "comp2 = insertionSort([1,2,3,4,5,6,7,8,9,10])\n",
    "comp3 = insertionSort([10,9,8,7,6,5,4,3,2,1])\n",
    "print(comp)\n",
    "print(comp2)\n",
    "print(comp3)"
   ]
  },
  {
   "cell_type": "code",
   "execution_count": 50,
   "metadata": {},
   "outputs": [
    {
     "name": "stdout",
     "output_type": "stream",
     "text": [
      "[8, 5, 3, 7, 5]\n",
      "[8, 5, 3, 7, 5]\n",
      "[8, 5, 3, 7, 5]\n",
      "[8, 5, 3, 7, 5]\n",
      "[8, 5, 3, 7, 5]\n"
     ]
    },
    {
     "data": {
      "text/plain": [
       "[3, 5, 5, 7, 8]"
      ]
     },
     "execution_count": 50,
     "metadata": {},
     "output_type": "execute_result"
    }
   ],
   "source": [
    "def append(A, el): \n",
    "    newArr = [0 for _ in range(len(A) + 1)]\n",
    "\n",
    "    for i in range(len(A)):\n",
    "        newArr[i] = A[i]\n",
    "        \n",
    "    newArr[len(A)] = el\n",
    "    return newArr\n",
    "    \n",
    "def insert(curr, A, hi, sortedArr):\n",
    "    for i in range(hi - 1, -1, -1): \n",
    "        if curr >= sortedArr[i]:\n",
    "            sortedArr[i + 1] = curr\n",
    "            return sortedArr \n",
    "        \n",
    "        sortedArr[i + 1] = sortedArr[i]\n",
    "    \n",
    "    sortedArr[0] = curr\n",
    "    return sortedArr\n",
    "\n",
    "def insertionSort(A):\n",
    "    sortedArr = [0 for _ in range(len(A))] \n",
    "    \n",
    "    for i in range(len(A)):\n",
    "        sortedArr = insert(A[i], A, i, sortedArr)\n",
    "    \n",
    "    return sortedArr\n",
    "\n",
    "\n",
    "def \n",
    "        \n",
    "insertionSort([8,5,3,7,5])\n",
    "        "
   ]
  },
  {
   "cell_type": "code",
   "execution_count": 2,
   "metadata": {},
   "outputs": [
    {
     "name": "stdout",
     "output_type": "stream",
     "text": [
      "[1, 4, 5, 7, 8, 9, 9, 9]\n"
     ]
    }
   ],
   "source": [
    "def insertionSort(A):\n",
    "    B = [0 for i in range(len(A))]\n",
    "    B[0] = A[0]\n",
    "    \n",
    "    for i in range(1,len(A)):\n",
    "        insert(A[i], B ,i)\n",
    "    \n",
    "    return B\n",
    "    \n",
    "def insert(k, A, hi):\n",
    "    for i in range (hi-1,-1,-1):\n",
    "        if k >= A[i]:\n",
    "            A[i+1] = k\n",
    "            return\n",
    "        A[i+1] = A[i]\n",
    "    A[0] = k\n",
    "\n",
    "a = insertionSort([5,4,7,8,9,9,1,9])\n",
    "print(a)"
   ]
  },
  {
   "cell_type": "code",
   "execution_count": 13,
   "metadata": {},
   "outputs": [
    {
     "ename": "RecursionError",
     "evalue": "maximum recursion depth exceeded in comparison",
     "output_type": "error",
     "traceback": [
      "\u001b[0;31m---------------------------------------------------------------------------\u001b[0m",
      "\u001b[0;31mRecursionError\u001b[0m                            Traceback (most recent call last)",
      "\u001b[0;32m<ipython-input-13-6a0315c924eb>\u001b[0m in \u001b[0;36m<module>\u001b[0;34m\u001b[0m\n\u001b[1;32m     78\u001b[0m \u001b[0mmyList\u001b[0m\u001b[0;34m.\u001b[0m\u001b[0mappend\u001b[0m\u001b[0;34m(\u001b[0m\u001b[0;36m0\u001b[0m\u001b[0;34m)\u001b[0m\u001b[0;34m\u001b[0m\u001b[0;34m\u001b[0m\u001b[0m\n\u001b[1;32m     79\u001b[0m \u001b[0;34m\u001b[0m\u001b[0m\n\u001b[0;32m---> 80\u001b[0;31m \u001b[0mquickSort\u001b[0m\u001b[0;34m(\u001b[0m\u001b[0mmyList\u001b[0m\u001b[0;34m)\u001b[0m\u001b[0;34m\u001b[0m\u001b[0;34m\u001b[0m\u001b[0m\n\u001b[0m",
      "\u001b[0;32m<ipython-input-13-6a0315c924eb>\u001b[0m in \u001b[0;36mquickSort\u001b[0;34m(array)\u001b[0m\n\u001b[1;32m     58\u001b[0m             \u001b[0mgreater\u001b[0m\u001b[0;34m.\u001b[0m\u001b[0mappend\u001b[0m\u001b[0;34m(\u001b[0m\u001b[0marray\u001b[0m\u001b[0;34m.\u001b[0m\u001b[0mget\u001b[0m\u001b[0;34m(\u001b[0m\u001b[0mi\u001b[0m\u001b[0;34m)\u001b[0m\u001b[0;34m)\u001b[0m\u001b[0;34m\u001b[0m\u001b[0;34m\u001b[0m\u001b[0m\n\u001b[1;32m     59\u001b[0m \u001b[0;34m\u001b[0m\u001b[0m\n\u001b[0;32m---> 60\u001b[0;31m     \u001b[0msmaller\u001b[0m \u001b[0;34m=\u001b[0m \u001b[0mquickSort\u001b[0m\u001b[0;34m(\u001b[0m\u001b[0msmaller\u001b[0m\u001b[0;34m)\u001b[0m\u001b[0;34m\u001b[0m\u001b[0;34m\u001b[0m\u001b[0m\n\u001b[0m\u001b[1;32m     61\u001b[0m     \u001b[0mgreater\u001b[0m \u001b[0;34m=\u001b[0m \u001b[0mquickSort\u001b[0m\u001b[0;34m(\u001b[0m\u001b[0mgreater\u001b[0m\u001b[0;34m)\u001b[0m\u001b[0;34m\u001b[0m\u001b[0;34m\u001b[0m\u001b[0m\n\u001b[1;32m     62\u001b[0m \u001b[0;34m\u001b[0m\u001b[0m\n",
      "... last 1 frames repeated, from the frame below ...\n",
      "\u001b[0;32m<ipython-input-13-6a0315c924eb>\u001b[0m in \u001b[0;36mquickSort\u001b[0;34m(array)\u001b[0m\n\u001b[1;32m     58\u001b[0m             \u001b[0mgreater\u001b[0m\u001b[0;34m.\u001b[0m\u001b[0mappend\u001b[0m\u001b[0;34m(\u001b[0m\u001b[0marray\u001b[0m\u001b[0;34m.\u001b[0m\u001b[0mget\u001b[0m\u001b[0;34m(\u001b[0m\u001b[0mi\u001b[0m\u001b[0;34m)\u001b[0m\u001b[0;34m)\u001b[0m\u001b[0;34m\u001b[0m\u001b[0;34m\u001b[0m\u001b[0m\n\u001b[1;32m     59\u001b[0m \u001b[0;34m\u001b[0m\u001b[0m\n\u001b[0;32m---> 60\u001b[0;31m     \u001b[0msmaller\u001b[0m \u001b[0;34m=\u001b[0m \u001b[0mquickSort\u001b[0m\u001b[0;34m(\u001b[0m\u001b[0msmaller\u001b[0m\u001b[0;34m)\u001b[0m\u001b[0;34m\u001b[0m\u001b[0;34m\u001b[0m\u001b[0m\n\u001b[0m\u001b[1;32m     61\u001b[0m     \u001b[0mgreater\u001b[0m \u001b[0;34m=\u001b[0m \u001b[0mquickSort\u001b[0m\u001b[0;34m(\u001b[0m\u001b[0mgreater\u001b[0m\u001b[0;34m)\u001b[0m\u001b[0;34m\u001b[0m\u001b[0;34m\u001b[0m\u001b[0m\n\u001b[1;32m     62\u001b[0m \u001b[0;34m\u001b[0m\u001b[0m\n",
      "\u001b[0;31mRecursionError\u001b[0m: maximum recursion depth exceeded in comparison"
     ]
    }
   ],
   "source": [
    "class ArrayList: \n",
    "    def __init__(self):\n",
    "        self.inArray = [0 for i in range(10)]\n",
    "        self.count = 0\n",
    "        \n",
    "    def get(self, i):\n",
    "        return self.inArray[i]\n",
    "    \n",
    "    def set(self, i, e):\n",
    "        self.inArray[i] = e\n",
    "        \n",
    "    def length(self):\n",
    "        return self.count\n",
    "    \n",
    "    def append(self, e):\n",
    "        self.inArray[self.count] = e\n",
    "        self.count += 1\n",
    "        \n",
    "        if len(self.inArray) == self.count:\n",
    "            self._resizeUp()\n",
    "    \n",
    "    def insert(self, i, e):\n",
    "        for j in range(self.count, i, -1):\n",
    "            self.inArray[j] = self.inArray[j-1]\n",
    "\n",
    "        self.inArray[i] = e\n",
    "        self.count += 1 \n",
    "\n",
    "        if len(self.inArray) == self.count:\n",
    "            self._resizeUp() \n",
    "            \n",
    "    def remove(self, i):\n",
    "        self.count -= 1\n",
    "        val = self.inArray[i]\n",
    "        \n",
    "        for j in range(i,self.count):\n",
    "            self.inArray[j] = self.inArray[j+1]\n",
    "        \n",
    "        return val\n",
    "    \n",
    "    def _resizeUp(self):\n",
    "        newArray = [0 for i in range(2*len(self.inArray))]\n",
    "        \n",
    "        for j in range(len(self.inArray)):\n",
    "            newArray[j] = self.inArray[j]\n",
    "        \n",
    "        self.inArray = newArray\n",
    "\n",
    "def quickSort(array):\n",
    "    pivot = array.get(0)\n",
    "    smaller = ArrayList()\n",
    "    greater = ArrayList()\n",
    "    \n",
    "    for i in range(1, array.length() - 1):\n",
    "        if array.get(i) < pivot:\n",
    "            smaller.append(array.get(i))\n",
    "        else:\n",
    "            greater.append(array.get(i))\n",
    "        \n",
    "    smaller = quickSort(smaller)\n",
    "    greater = quickSort(greater)\n",
    "    \n",
    "    smaller.append(pivot)\n",
    "    \n",
    "    for i in range(0, greater.length()):\n",
    "        smaller.append(greater.get(i))\n",
    "        \n",
    "    return smaller\n",
    "    \n",
    "myList = ArrayList()\n",
    "myList.append(3)\n",
    "myList.append(7)\n",
    "myList.append(1)\n",
    "myList.append(9)\n",
    "myList.append(8)\n",
    "myList.append(5)\n",
    "myList.append(2)\n",
    "myList.append(0)\n",
    "\n",
    "quickSort(myList)"
   ]
  },
  {
   "cell_type": "code",
   "execution_count": null,
   "metadata": {},
   "outputs": [],
   "source": []
  }
 ],
 "metadata": {
  "kernelspec": {
   "display_name": "Python 3",
   "language": "python",
   "name": "python3"
  },
  "language_info": {
   "codemirror_mode": {
    "name": "ipython",
    "version": 3
   },
   "file_extension": ".py",
   "mimetype": "text/x-python",
   "name": "python",
   "nbconvert_exporter": "python",
   "pygments_lexer": "ipython3",
   "version": "3.7.3"
  }
 },
 "nbformat": 4,
 "nbformat_minor": 2
}
