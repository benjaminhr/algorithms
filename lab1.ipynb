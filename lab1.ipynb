{
 "cells": [
  {
   "cell_type": "markdown",
   "metadata": {},
   "source": [
    "# Lab 1 notebook\n",
    "\n",
    "We have prepared some example functions for you to practice with for Question 1.\n",
    "You can use these as examples to answer the rest of the questions. \n",
    "\n",
    "You can answer the rest of the questions by writing code in new cells at the end of this notebook."
   ]
  },
  {
   "cell_type": "code",
   "execution_count": 58,
   "metadata": {},
   "outputs": [
    {
     "name": "stdout",
     "output_type": "stream",
     "text": [
      "Hello world!\n",
      "Hello me!\n",
      "Hello you!\n"
     ]
    }
   ],
   "source": [
    "# the necessary hello world program\n",
    "def helloWorld():\n",
    "    print(\"Hello world!\")\n",
    "    \n",
    "helloWorld()\n",
    "\n",
    "# hello world with a twist\n",
    "def hello(name):\n",
    "    print(\"Hello \"+name+\"!\")\n",
    "    \n",
    "hello(\"me\")\n",
    "hello(\"you\")"
   ]
  },
  {
   "cell_type": "code",
   "execution_count": 1,
   "metadata": {},
   "outputs": [
    {
     "name": "stdout",
     "output_type": "stream",
     "text": [
      "Give some input name: benjamin\n",
      "Hello benjamin!\n"
     ]
    }
   ],
   "source": [
    "# hello with input\n",
    "def helloIn():\n",
    "    name = input(\"Give some input name: \") # if you run Python2 this might break, try \"raw_input\" instead of \"input\"\n",
    "    print(\"Hello \"+name+\"!\")\n",
    "    \n",
    "helloIn()"
   ]
  },
  {
   "cell_type": "code",
   "execution_count": 63,
   "metadata": {},
   "outputs": [
    {
     "name": "stdout",
     "output_type": "stream",
     "text": [
      "False\n",
      "True\n",
      "\n",
      "False\n",
      "True\n"
     ]
    }
   ],
   "source": [
    "# example functions that use if-else\n",
    "\n",
    "# checks whether the input is zero\n",
    "def isZero(x):\n",
    "    if x == 0:\n",
    "        return True\n",
    "    else:\n",
    "        return False\n",
    "    \n",
    "print(isZero(42))\n",
    "print(isZero(0))\n",
    "print()\n",
    "\n",
    "# checks whether the input is odd\n",
    "def isOdd(x):\n",
    "    if x%2 == 0:\n",
    "        return False\n",
    "    else:\n",
    "        return True\n",
    "    \n",
    "print(isOdd(42))\n",
    "print(isOdd(43))"
   ]
  },
  {
   "cell_type": "code",
   "execution_count": 61,
   "metadata": {},
   "outputs": [
    {
     "name": "stdout",
     "output_type": "stream",
     "text": [
      "x is one\n",
      "x is below zero or above three\n",
      "\n",
      "x is not a multiple of two or three\n",
      "x is a multiple of 2 only\n",
      "x is a multiple of 2 and 3\n"
     ]
    }
   ],
   "source": [
    "# example functions that use if-elif-else\n",
    "\n",
    "# \"elif\" is meant to be \"else if\"\n",
    "# the if-elif-else syntax is:\n",
    "# \n",
    "# if condition1:\n",
    "#     doSomething1\n",
    "# elif condition2:\n",
    "#     doSomething2\n",
    "# ...\n",
    "# else:\n",
    "#     doSomethingElse\n",
    "\n",
    "# checks whether the input is 0 or 1 or 2 or 3 and prints it\n",
    "def printVal(x):\n",
    "    if x == 0:\n",
    "        print(\"x is zero\")\n",
    "    elif x == 1: \n",
    "        print(\"x is one\")\n",
    "    elif x == 2: \n",
    "        print(\"x is two\")\n",
    "    elif x == 3: \n",
    "        print(\"x is three\")\n",
    "    else:\n",
    "        print(\"x is below zero or above three\")\n",
    "        \n",
    "printVal(1)\n",
    "printVal(42)\n",
    "print()\n",
    "\n",
    "# checks whether the input is a multiple of 2 or 3\n",
    "def checkMults(x):\n",
    "    if (x%2 == 0) & (x%3 == 0):\n",
    "        print(\"x is a multiple of 2 and 3\")\n",
    "    elif x%2 == 0: \n",
    "        print(\"x is a multiple of 2 only\")\n",
    "    elif x%3 == 0: \n",
    "        print(\"x is a multiple of 3 only\")\n",
    "    else:\n",
    "        print(\"x is not a multiple of two or three\")\n",
    "\n",
    "checkMults(1)\n",
    "checkMults(2)\n",
    "checkMults(42)"
   ]
  },
  {
   "cell_type": "code",
   "execution_count": 56,
   "metadata": {},
   "outputs": [
    {
     "name": "stdout",
     "output_type": "stream",
     "text": [
      "0\n",
      "1\n",
      "2\n",
      "3\n",
      "4\n",
      "\n",
      "1\n",
      "2\n",
      "3\n",
      "4\n",
      "5\n"
     ]
    }
   ],
   "source": [
    "# example functions that use for loops\n",
    "\n",
    "# this function prints all numbers from 0 to x-1\n",
    "def printRange(x):\n",
    "    for i in range(x):\n",
    "        print(i)\n",
    "        \n",
    "printRange(5)\n",
    "print()\n",
    "\n",
    "# this function prints all numbers from 1 to x\n",
    "\n",
    "def printOtherRange(x):\n",
    "    for i in range(1,x+1):\n",
    "        print(i)\n",
    "        \n",
    "printOtherRange(5)"
   ]
  },
  {
   "cell_type": "code",
   "execution_count": 22,
   "metadata": {},
   "outputs": [
    {
     "name": "stdout",
     "output_type": "stream",
     "text": [
      "All three inputs have equal values\n"
     ]
    },
    {
     "data": {
      "text/plain": [
       "1"
      ]
     },
     "execution_count": 22,
     "metadata": {},
     "output_type": "execute_result"
    }
   ],
   "source": [
    "def question2(x,y,z):\n",
    "    if x == y == z:\n",
    "        print(\"All three inputs have equal values\")\n",
    "        return 1\n",
    "    \n",
    "    elif x == y:\n",
    "        print(\"x and y have equal values\")\n",
    "        return 2\n",
    "    \n",
    "    elif x == z:\n",
    "        print(\"x and z have equal values\")\n",
    "        return 3\n",
    "    \n",
    "    elif y == z: \n",
    "        print(\"y and z have equal values\")\n",
    "        return 4\n",
    "    \n",
    "    else: \n",
    "        print(\"All three inputs have different values\")\n",
    "        return 5\n",
    "\n",
    "question2(4,4,4)\n",
    "# question2(1,1,4)\n",
    "# question2(1,2,3)"
   ]
  },
  {
   "cell_type": "code",
   "execution_count": 23,
   "metadata": {},
   "outputs": [
    {
     "name": "stdout",
     "output_type": "stream",
     "text": [
      "x: 1\n",
      "y: 2\n",
      "z: 3\n",
      "All three inputs have different values\n"
     ]
    },
    {
     "data": {
      "text/plain": [
       "5"
      ]
     },
     "execution_count": 23,
     "metadata": {},
     "output_type": "execute_result"
    }
   ],
   "source": [
    "def question3():\n",
    "    x = input(\"x: \")\n",
    "    y = input(\"y: \")\n",
    "    z = input(\"z: \")\n",
    "    \n",
    "    return question2(x, y, z)\n",
    "\n",
    "question3()"
   ]
  },
  {
   "cell_type": "code",
   "execution_count": 24,
   "metadata": {},
   "outputs": [
    {
     "name": "stdout",
     "output_type": "stream",
     "text": [
      "x and y have equal lengths\n"
     ]
    },
    {
     "data": {
      "text/plain": [
       "2"
      ]
     },
     "execution_count": 24,
     "metadata": {},
     "output_type": "execute_result"
    }
   ],
   "source": [
    "def question4(x, y, z):\n",
    "    lenX = len(x)\n",
    "    lenY = len(y)\n",
    "    lenZ = len(z)\n",
    "    \n",
    "    if lenX == lenY == lenZ:\n",
    "        print(\"All three inputs have equal lengths\")\n",
    "        return 1\n",
    "    \n",
    "    elif lenX == lenY:\n",
    "        print(\"x and y have equal lengths\")\n",
    "        return 2\n",
    "    \n",
    "    elif lenX == lenZ:\n",
    "        print(\"x and z have equal lengths\")\n",
    "        return 3\n",
    "    \n",
    "    elif lenY == lenZ: \n",
    "        print(\"y and z have equal lengths\")\n",
    "        return 4\n",
    "    \n",
    "    else: \n",
    "        print(\"All three inputs have different lengths\")\n",
    "        return 5\n",
    "\n",
    "question4([1,2], [2,4], [0,1,1])"
   ]
  },
  {
   "cell_type": "code",
   "execution_count": 27,
   "metadata": {},
   "outputs": [
    {
     "name": "stdout",
     "output_type": "stream",
     "text": [
      "x and z have equal sums\n"
     ]
    },
    {
     "data": {
      "text/plain": [
       "3"
      ]
     },
     "execution_count": 27,
     "metadata": {},
     "output_type": "execute_result"
    }
   ],
   "source": [
    "def question5(x, y, z):\n",
    "    def customSum(arr):\n",
    "        total = 0 \n",
    "        \n",
    "        for x in range(len(arr)):\n",
    "            total += arr[x]\n",
    "            \n",
    "        return total\n",
    "    \n",
    "    sumX = customSum(x)\n",
    "    sumY = customSum(y)\n",
    "    sumZ = customSum(z)\n",
    "    \n",
    "    if sumX == sumY == sumZ:\n",
    "        print(\"All three inputs have equal sums\")\n",
    "        return 1\n",
    "    \n",
    "    elif sumX == sumY:\n",
    "        print(\"x and y have equal sums\")\n",
    "        return 2\n",
    "    \n",
    "    elif sumX == sumZ:\n",
    "        print(\"x and z have equal sums\")\n",
    "        return 3\n",
    "    \n",
    "    elif sumY == sumZ: \n",
    "        print(\"y and z have equal sums\")\n",
    "        return 4\n",
    "    \n",
    "    else: \n",
    "        print(\"All three inputs have different sums\")\n",
    "        return 5\n",
    "\n",
    "question5([1,2,3], [2,4,10], [5,1])"
   ]
  },
  {
   "cell_type": "code",
   "execution_count": 20,
   "metadata": {},
   "outputs": [
    {
     "name": "stdout",
     "output_type": "stream",
     "text": [
      "Applying f to each of the three values gives a different result\n",
      "Applying f to x and z gives the same result\n"
     ]
    },
    {
     "data": {
      "text/plain": [
       "3"
      ]
     },
     "execution_count": 20,
     "metadata": {},
     "output_type": "execute_result"
    }
   ],
   "source": [
    "\"\"\"\n",
    "1. \"Applying f to all three values gives the same result\"\n",
    "2. \"Applying f to x and y gives the same result\"\n",
    "3. \"Applying f to x and z gives the same result\"\n",
    "4. \"Applying f to y and z gives the same result\"\n",
    "5. \"Applying f to each of the three values gives a different result\"\n",
    "\"\"\"\n",
    "\n",
    "def question6(f, x, y, z):\n",
    "    a = f(x)\n",
    "    b = f(y)\n",
    "    c = f(z)\n",
    "    \n",
    "    if a == b == c:\n",
    "        print(\"Applying f to all three values gives the same result\")\n",
    "        return 1\n",
    "    \n",
    "    elif a == b:\n",
    "        print(\"Applying f to x and y gives the same result\")\n",
    "        return 2\n",
    "    \n",
    "    elif a == c:\n",
    "        print(\"Applying f to x and z gives the same result\")\n",
    "        return 3\n",
    "    \n",
    "    elif b == c: \n",
    "        print(\"Applying f to y and z gives the same result\")\n",
    "        return 4\n",
    "    \n",
    "    else: \n",
    "        print(\"Applying f to each of the three values gives a different result\")\n",
    "        return 5\n",
    "    \n",
    "question6(sum, [1,2], [1,2,3,4], [4,5])\n",
    "question6(len, [1,2], [1,2,3,4], [4,5])"
   ]
  },
  {
   "cell_type": "code",
   "execution_count": null,
   "metadata": {},
   "outputs": [],
   "source": []
  }
 ],
 "metadata": {
  "kernelspec": {
   "display_name": "Python 3",
   "language": "python",
   "name": "python3"
  },
  "language_info": {
   "codemirror_mode": {
    "name": "ipython",
    "version": 3
   },
   "file_extension": ".py",
   "mimetype": "text/x-python",
   "name": "python",
   "nbconvert_exporter": "python",
   "pygments_lexer": "ipython3",
   "version": "3.7.3"
  }
 },
 "nbformat": 4,
 "nbformat_minor": 2
}
