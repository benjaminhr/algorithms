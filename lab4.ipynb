{
 "cells": [
  {
   "cell_type": "markdown",
   "metadata": {},
   "source": [
    "#### Question 1"
   ]
  },
  {
   "cell_type": "code",
   "execution_count": 18,
   "metadata": {},
   "outputs": [
    {
     "name": "stdout",
     "output_type": "stream",
     "text": [
      "4\n"
     ]
    }
   ],
   "source": [
    "def timesOccursIn(k,A):\n",
    "    if len(A) < 1:\n",
    "        return 0\n",
    "    \n",
    "    if A[0] == k: \n",
    "        return 1 + timesOccursIn(k, A[1:])\n",
    "    else: \n",
    "        return timesOccursIn(k, A[1:])\n",
    "    \n",
    "\n",
    "times = timesOccursIn(3, [3,3,3,3])\n",
    "print(times)"
   ]
  },
  {
   "cell_type": "markdown",
   "metadata": {},
   "source": [
    "#### Question 2"
   ]
  },
  {
   "cell_type": "code",
   "execution_count": 31,
   "metadata": {},
   "outputs": [
    {
     "name": "stdout",
     "output_type": "stream",
     "text": [
      "[10, 20, 30, 40]\n"
     ]
    }
   ],
   "source": [
    "def multAllRec(k,A,i):\n",
    "    if i == len(A):\n",
    "        return A\n",
    "    else:\n",
    "        A[i] = A[i] * k \n",
    "        return multAllRec(k, A, i + 1)\n",
    "\n",
    "def multAll(k, A):\n",
    "    return multAllRec(k, A, 0)\n",
    "\n",
    "a = multAll(10, [1,2,3,4])\n",
    "print(a)"
   ]
  },
  {
   "cell_type": "markdown",
   "metadata": {},
   "source": [
    "#### Question 3"
   ]
  },
  {
   "cell_type": "code",
   "execution_count": 124,
   "metadata": {},
   "outputs": [
    {
     "name": "stdout",
     "output_type": "stream",
     "text": [
      "[2, 3, 4]\n",
      "[10, 20, 30, 40]\n"
     ]
    }
   ],
   "source": [
    "def multAllRec(k, A, i, newArr):\n",
    "    if i == len(A):\n",
    "        return newArr\n",
    "    else:\n",
    "        newArr[i] = A[i] * k \n",
    "        return multAllRec(k, A, i + 1, newArr)\n",
    "\n",
    "def multAll(k, A):\n",
    "    result = [0 for i in range(len(A))]\n",
    "    \n",
    "    return multAllRec(k, A, 0, result)\n",
    "\n",
    "\n",
    "a = multAll(10, [1,2,3,4])\n",
    "print(a)"
   ]
  },
  {
   "cell_type": "markdown",
   "metadata": {},
   "source": [
    "#### Question 4"
   ]
  },
  {
   "cell_type": "code",
   "execution_count": 66,
   "metadata": {},
   "outputs": [
    {
     "data": {
      "text/plain": [
       "-1"
      ]
     },
     "execution_count": 66,
     "metadata": {},
     "output_type": "execute_result"
    }
   ],
   "source": [
    "def binSearchRec(A, k, low, high):\n",
    "    mid = (low + high) // 2\n",
    "\n",
    "    if low > high:\n",
    "        return -1\n",
    "    \n",
    "    if A[mid] == k:\n",
    "        return mid\n",
    "    else:\n",
    "        if k > A[mid]:\n",
    "            return binSearchRec(A, k, mid + 1, high)\n",
    "        else:\n",
    "            return binSearchRec(A, k, low, mid - 1)\n",
    "\n",
    "def binSearch(A, k):\n",
    "    return binSearchRec(A, k, 0, len(A) - 1)\n",
    "            \n",
    "binSearch([1,2,3,4,5,6,7,8,9], 0)"
   ]
  },
  {
   "cell_type": "markdown",
   "metadata": {},
   "source": [
    "#### Question 5\n",
    "\n",
    "Using recursion, write a Python function\n",
    "def filterByMark(A,f)\n",
    "which takes an array A of Script objects and an integer f and returns an array of integers\n",
    "which consists of the id’s of each Script in A whose mark is equal to or greater than f. "
   ]
  },
  {
   "cell_type": "code",
   "execution_count": 127,
   "metadata": {},
   "outputs": [
    {
     "name": "stdout",
     "output_type": "stream",
     "text": [
      "4\n",
      "7\n"
     ]
    }
   ],
   "source": [
    "class Script:\n",
    "    def __init__(self, mark, sid):\n",
    "        self.mark = mark\n",
    "        self.sid = sid\n",
    "\n",
    "def filterByMark(A, f):\n",
    "    if len(A) == 0:\n",
    "        return []\n",
    "    \n",
    "    if A[0].mark >= f:\n",
    "        return [A[0]] + filterByMark(A[1:], f)\n",
    "    \n",
    "    else: \n",
    "        return filterByMark(A[1:], f)\n",
    "    \n",
    "scripts = [Script(4, 1), Script(5, 2), Script(2,3), Script(8,4), Script(2,5), Script(1,6), Script(10,7), Script(4,8)]\n",
    "marks = filterByMark(scripts, 8)\n",
    "\n",
    "for mark in marks:\n",
    "    print(mark.sid)"
   ]
  },
  {
   "cell_type": "markdown",
   "metadata": {},
   "source": [
    "#### Question 6"
   ]
  },
  {
   "cell_type": "code",
   "execution_count": 108,
   "metadata": {},
   "outputs": [
    {
     "name": "stdout",
     "output_type": "stream",
     "text": [
      "----- SIZE 100 ------\n",
      "selection sort 100:  0.0004112720489501953\n",
      "insertion sort 100:  5.91278076171875e-05\n",
      "quick sort 100:  0.00011420249938964844\n",
      "merge sort 100:  0.00027108192443847656\n",
      "\n",
      "\n",
      "selection sort 100:  0.0004069805145263672\n",
      "insertion sort 100:  5.91278076171875e-05\n",
      "quick sort 100:  0.00010585784912109375\n",
      "merge sort 100:  0.0002682209014892578\n",
      "\n",
      "\n",
      "selection sort 100:  0.0004138946533203125\n",
      "insertion sort 100:  5.888938903808594e-05\n",
      "quick sort 100:  0.00010585784912109375\n",
      "merge sort 100:  0.00026607513427734375\n",
      "\n",
      "\n",
      "----- SIZE 1000 ------\n",
      "selection sort 1000:  0.04411816596984863\n",
      "insertion sort 1000:  0.0007128715515136719\n",
      "quick sort 1000:  0.0008709430694580078\n",
      "merge sort 1000:  0.0034499168395996094\n",
      "\n",
      "\n",
      "selection sort 1000:  0.042025089263916016\n",
      "insertion sort 1000:  0.0006811618804931641\n",
      "quick sort 1000:  0.0008451938629150391\n",
      "merge sort 1000:  0.003470897674560547\n",
      "\n",
      "\n",
      "selection sort 1000:  0.04231762886047363\n",
      "insertion sort 1000:  0.0006778240203857422\n",
      "quick sort 1000:  0.0008652210235595703\n",
      "merge sort 1000:  0.003445863723754883\n",
      "\n",
      "\n",
      "----- SIZE 10000 ------\n",
      "selection sort 10000:  4.077322959899902\n",
      "insertion sort 10000:  0.007465839385986328\n",
      "quick sort 10000:  0.008520841598510742\n",
      "merge sort 10000:  0.04399681091308594\n",
      "\n",
      "\n",
      "selection sort 10000:  3.983849048614502\n",
      "insertion sort 10000:  0.0071179866790771484\n",
      "quick sort 10000:  0.008614778518676758\n",
      "merge sort 10000:  0.04534626007080078\n",
      "\n",
      "\n",
      "selection sort 10000:  3.9948956966400146\n",
      "insertion sort 10000:  0.007441997528076172\n",
      "quick sort 10000:  0.008465051651000977\n",
      "merge sort 10000:  0.04400515556335449\n",
      "\n",
      "\n"
     ]
    }
   ],
   "source": [
    "import random\n",
    "import time\n",
    "\n",
    "def randomIntArray(s,n):\n",
    "    return [random.randint(0,n) for _ in range(s)]\n",
    "\n",
    "def calcTime(fn, A):\n",
    "    t = time.time()\n",
    "    \n",
    "    fn(A)\n",
    "    \n",
    "    return time.time() - t\n",
    "\n",
    "def selectionSort(A):\n",
    "    for i in range(len(A)):\n",
    "        imin = findMin(i,A)\n",
    "        swap(i,imin,A)\n",
    "\n",
    "def findMin(i, A):\n",
    "    imin = i\n",
    "    for j in range(i+1,len(A)):\n",
    "        if A[j] < A[imin]: \n",
    "            imin = j\n",
    "    return imin\n",
    "\n",
    "def swap(i, j, A):\n",
    "    tmp = A[i]\n",
    "    A[i] = A[j]\n",
    "    A[j] = tmp\n",
    "    \n",
    "def insertionSort(A):\n",
    "    for i in range(1,len(A)):\n",
    "        insert(A[i],A,i)\n",
    "\n",
    "def insert(k, A, hi):\n",
    "    for i in range (hi-1,-1,-1):\n",
    "        if k >= A[i]:\n",
    "            A[i+1] = k\n",
    "            return\n",
    "        A[i+1] = A[i]\n",
    "    A[0] = k\n",
    "\n",
    "def mergeSort(A):\n",
    "    if len(A) < 2:\n",
    "        return A\n",
    "\n",
    "    result,mid = [],int(len(A)/2)\n",
    "\n",
    "    y = mergeSort(A[:mid])\n",
    "    z = mergeSort(A[mid:])\n",
    "\n",
    "    while (len(y) > 0) and (len(z) > 0):\n",
    "            if y[0] > z[0]:\n",
    "                result.append(z.pop(0))   \n",
    "            else:\n",
    "                result.append(y.pop(0))\n",
    "\n",
    "    result.extend(y+z)\n",
    "    return result\n",
    "        \n",
    "def quickSort(A):\n",
    "    less = []\n",
    "    equal = []\n",
    "    greater = []\n",
    "\n",
    "    if len(A) > 1:\n",
    "        pivot = A[0]\n",
    "        for x in A:\n",
    "            if x < pivot:\n",
    "                less.append(x)\n",
    "            elif x == pivot:\n",
    "                equal.append(x)\n",
    "            elif x > pivot:\n",
    "                greater.append(x)\n",
    "        return quickSort(less) + equal + quickSort(greater) \n",
    "    else:  \n",
    "        return A\n",
    "\n",
    "    \n",
    "a11 = randomIntArray(100, 10)\n",
    "a12 = randomIntArray(100, 10)\n",
    "a13 = randomIntArray(100, 10)\n",
    "\n",
    "a21 = randomIntArray(1000, 10)\n",
    "a22 = randomIntArray(1000, 10)\n",
    "a23 = randomIntArray(1000, 10)\n",
    "\n",
    "a31 = randomIntArray(10000, 10)\n",
    "a32 = randomIntArray(10000, 10)\n",
    "a33 = randomIntArray(10000, 10)\n",
    "\n",
    "print(\"----- SIZE 100 ------\")\n",
    "print(\"selection sort 100: \", calcTime(selectionSort, a11))\n",
    "print(\"insertion sort 100: \", calcTime(insertionSort, a11))\n",
    "print(\"quick sort 100: \", calcTime(quickSort, a11))\n",
    "print(\"merge sort 100: \", calcTime(mergeSort, a11))\n",
    "print(\"\\n\")\n",
    "print(\"selection sort 100: \", calcTime(selectionSort, a12))\n",
    "print(\"insertion sort 100: \", calcTime(insertionSort, a12))\n",
    "print(\"quick sort 100: \", calcTime(quickSort, a12))\n",
    "print(\"merge sort 100: \", calcTime(mergeSort, a12))\n",
    "print(\"\\n\")\n",
    "print(\"selection sort 100: \", calcTime(selectionSort, a13))\n",
    "print(\"insertion sort 100: \", calcTime(insertionSort, a13))\n",
    "print(\"quick sort 100: \", calcTime(quickSort, a13))\n",
    "print(\"merge sort 100: \", calcTime(mergeSort, a13))\n",
    "print(\"\\n\")\n",
    "\n",
    "print(\"----- SIZE 1000 ------\")\n",
    "print(\"selection sort 1000: \", calcTime(selectionSort, a21))\n",
    "print(\"insertion sort 1000: \", calcTime(insertionSort, a21))\n",
    "print(\"quick sort 1000: \", calcTime(quickSort, a21))\n",
    "print(\"merge sort 1000: \", calcTime(mergeSort, a21))\n",
    "print(\"\\n\")\n",
    "print(\"selection sort 1000: \", calcTime(selectionSort, a22))\n",
    "print(\"insertion sort 1000: \", calcTime(insertionSort, a22))\n",
    "print(\"quick sort 1000: \", calcTime(quickSort, a22))\n",
    "print(\"merge sort 1000: \", calcTime(mergeSort, a22))\n",
    "print(\"\\n\")\n",
    "print(\"selection sort 1000: \", calcTime(selectionSort, a23))\n",
    "print(\"insertion sort 1000: \", calcTime(insertionSort, a23))\n",
    "print(\"quick sort 1000: \", calcTime(quickSort, a23))\n",
    "print(\"merge sort 1000: \", calcTime(mergeSort, a23))\n",
    "print(\"\\n\")\n",
    "\n",
    "print(\"----- SIZE 10000 ------\")\n",
    "print(\"selection sort 10000: \", calcTime(selectionSort, a31))\n",
    "print(\"insertion sort 10000: \", calcTime(insertionSort, a31))\n",
    "print(\"quick sort 10000: \", calcTime(quickSort, a31))\n",
    "print(\"merge sort 10000: \", calcTime(mergeSort, a31))\n",
    "print(\"\\n\")\n",
    "print(\"selection sort 10000: \", calcTime(selectionSort, a31))\n",
    "print(\"insertion sort 10000: \", calcTime(insertionSort, a31))\n",
    "print(\"quick sort 10000: \", calcTime(quickSort, a31))\n",
    "print(\"merge sort 10000: \", calcTime(mergeSort, a31))\n",
    "print(\"\\n\")\n",
    "print(\"selection sort 10000: \", calcTime(selectionSort, a31))\n",
    "print(\"insertion sort 10000: \", calcTime(insertionSort, a31))\n",
    "print(\"quick sort 10000: \", calcTime(quickSort, a31))\n",
    "print(\"merge sort 10000: \", calcTime(mergeSort, a31))\n",
    "print(\"\\n\")\n"
   ]
  },
  {
   "cell_type": "markdown",
   "metadata": {},
   "source": [
    "#### Question 7"
   ]
  },
  {
   "cell_type": "code",
   "execution_count": 133,
   "metadata": {},
   "outputs": [
    {
     "data": {
      "text/plain": [
       "False"
      ]
     },
     "execution_count": 133,
     "metadata": {},
     "output_type": "execute_result"
    }
   ],
   "source": [
    "def isIn(A, B):    \n",
    "    for i in range(len(A)):\n",
    "        if A[i] != B[i]:\n",
    "            return False\n",
    "    \n",
    "    return True\n",
    "\n",
    "def isSubArray(A, B):\n",
    "    if len(B) == 0:\n",
    "        return False\n",
    "    \n",
    "    if isIn(A, B):\n",
    "        return True\n",
    "    else:\n",
    "        return isSubArray(A, B[1:])\n",
    "\n",
    "isSubArray([1,2,3], [4,5,6,1,2,3,7,8,9])"
   ]
  },
  {
   "cell_type": "markdown",
   "metadata": {},
   "source": [
    "#### Question 8"
   ]
  },
  {
   "cell_type": "code",
   "execution_count": null,
   "metadata": {},
   "outputs": [],
   "source": []
  }
 ],
 "metadata": {
  "kernelspec": {
   "display_name": "Python 3",
   "language": "python",
   "name": "python3"
  },
  "language_info": {
   "codemirror_mode": {
    "name": "ipython",
    "version": 3
   },
   "file_extension": ".py",
   "mimetype": "text/x-python",
   "name": "python",
   "nbconvert_exporter": "python",
   "pygments_lexer": "ipython3",
   "version": "3.7.3"
  }
 },
 "nbformat": 4,
 "nbformat_minor": 2
}
