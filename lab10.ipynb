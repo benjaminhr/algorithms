{
 "cells": [
  {
   "cell_type": "markdown",
   "metadata": {},
   "source": [
    "#### Question 1"
   ]
  },
  {
   "cell_type": "code",
   "execution_count": 14,
   "metadata": {},
   "outputs": [
    {
     "data": {
      "text/plain": [
       "11"
      ]
     },
     "execution_count": 14,
     "metadata": {},
     "output_type": "execute_result"
    }
   ],
   "source": [
    "def thrib(n, memo):\n",
    "    if n in memo:\n",
    "        return memo[n]\n",
    "    elif n <= 2:\n",
    "        memo[n] = n\n",
    "    else:\n",
    "        memo[n] = thrib(n - 1, memo) + thrib(n - 2, memo) + thrib(n - 3, memo)\n",
    "    return memo[n]\n",
    "        \n",
    "    \n",
    "def thribDP(n):\n",
    "    memo = {}\n",
    "    return thrib(n, memo)\n",
    "\n",
    "thribDP(5)"
   ]
  },
  {
   "cell_type": "markdown",
   "metadata": {},
   "source": [
    "#### Question 2"
   ]
  },
  {
   "cell_type": "code",
   "execution_count": 16,
   "metadata": {},
   "outputs": [
    {
     "data": {
      "text/plain": [
       "2"
      ]
     },
     "execution_count": 16,
     "metadata": {},
     "output_type": "execute_result"
    }
   ],
   "source": [
    "def thribDPBU(n):\n",
    "    memo = {}\n",
    "    \n",
    "    for i in range(n + 1):\n",
    "        if i <= 2:\n",
    "            memo[i] = i\n",
    "        else:\n",
    "            memo[i] = memo[i - 1] + memo[i - 2] + memo[i - 3]\n",
    "    return memo[n]\n",
    "\n",
    "\n",
    "thribDPBU(2)"
   ]
  },
  {
   "cell_type": "markdown",
   "metadata": {},
   "source": [
    "#### Question 3"
   ]
  },
  {
   "cell_type": "code",
   "execution_count": 3,
   "metadata": {},
   "outputs": [
    {
     "data": {
      "text/plain": [
       "'\\n\\n######## n = 10 ######## coin1 ########\\n1.1920928955078125e-05 seconds\\n2.6941299438476562e-05 seconds\\n3.814697265625e-05 seconds\\n######## n = 100 ######## coin1 ########\\n0.0012688636779785156 seconds\\n0.0001862049102783203 seconds\\n0.00043702125549316406 seconds\\n######## n = 1000 ######## coin1 ########\\n12.912599086761475 seconds\\n0.0018429756164550781 seconds\\n0.004659891128540039 seconds\\n#######################################\\n######## n = 10 ######## coin2 ########\\n4.410743713378906e-05 seconds\\n0.00014591217041015625 seconds\\n0.0007359981536865234 seconds\\n######## n = 100 ######## coin2 ########\\n135.2634608745575 seconds\\n0.00420689582824707 seconds\\n0.008571147918701172 seconds\\n######## n = 1000 ######## coin2 ########\\n\\n'"
      ]
     },
     "execution_count": 3,
     "metadata": {},
     "output_type": "execute_result"
    }
   ],
   "source": [
    "import time\n",
    "\n",
    "def coinSplit(m, coins):\n",
    "    return coinSplitRec(m, 0, coins)\n",
    "\n",
    "def coinSplitRec(m, startCoin, coins):\n",
    "    if m == 0:\n",
    "        return 0\n",
    "    while coins[startCoin] > m:\n",
    "        startCoin += 1\n",
    "    if startCoin == len(coins)-1:\n",
    "        return m\n",
    "    withIt = 1 + coinSplitRec(m-coins[startCoin],startCoin,coins)\n",
    "    withoutIt = coinSplitRec(m,startCoin+1,coins)\n",
    "    if withIt < withoutIt:\n",
    "        return withIt\n",
    "    return m\n",
    "\n",
    "def coinSplitDP(m, coins):\n",
    "    memo = {}\n",
    "    return coinSplitMem(m,0,memo, coins)\n",
    "\n",
    "def coinSplitMem(m, startCoin, memo, coins): \n",
    "    if (m,startCoin) in memo:\n",
    "        return memo[m,startCoin]\n",
    "    if m == 0:\n",
    "        memo[m,startCoin] = 0\n",
    "    elif startCoin == len(coins)-1:\n",
    "        memo[m,startCoin] = m\n",
    "    else:\n",
    "        withoutIt = coinSplitMem(m,startCoin+1,memo, coins)\n",
    "        memo[m,startCoin] = withoutIt\n",
    "        if coins[startCoin] <= m:\n",
    "            withIt = 1 + coinSplitMem(m-coins[startCoin],startCoin,memo,coins)\n",
    "            if withIt < withoutIt:\n",
    "                memo[m,startCoin] = withIt\n",
    "    return memo[m,startCoin]\n",
    "\n",
    "def coinSplitDPBU(mInit, coins):\n",
    "    memo = {}\n",
    "    for i in range(len(coins)):\n",
    "        memo[0,i] = 0\n",
    "    for m in range(mInit+1):\n",
    "        memo[m,len(coins)-1] = m\n",
    "    for m in range(1,mInit+1):\n",
    "        for startCoin in range(len(coins)-2,-1,-1):\n",
    "            withoutIt = memo[m,startCoin+1]\n",
    "            memo[m,startCoin] = withoutIt\n",
    "            if coins[startCoin] <= m:\n",
    "                withIt = 1 + memo[m-coins[startCoin],startCoin]\n",
    "                if withIt < withoutIt:\n",
    "                    memo[m,startCoin] = withIt\n",
    "    return memo[mInit,0]\n",
    "\n",
    "def timer(fn, coins, n):\n",
    "    t1 = time.time()\n",
    "    fn(n, coins)\n",
    "    return str(time.time() - t1) + \" seconds\"\n",
    "\n",
    "\n",
    "coin1 = [200, 100, 50, 20, 5, 2, 1]\n",
    "coin2 = [i for i in range(200, 0,  -1)]\n",
    "\n",
    "print(\"######## n = 10 ######## coin1 ########\")\n",
    "print(timer(coinSplit, coin1, 10))\n",
    "print(timer(coinSplitDP, coin1, 10))\n",
    "print(timer(coinSplitDPBU, coin1, 10))\n",
    "\n",
    "print(\"######## n = 100 ######## coin1 ########\")\n",
    "print(timer(coinSplit, coin1, 100))\n",
    "print(timer(coinSplitDP, coin1, 100))\n",
    "print(timer(coinSplitDPBU, coin1, 100))\n",
    "\n",
    "\n",
    "print(\"######## n = 1000 ######## coin1 ########\")\n",
    "print(timer(coinSplit, coin1, 1000))\n",
    "print(timer(coinSplitDP, coin1, 1000))\n",
    "print(timer(coinSplitDPBU, coin1, 1000))\n",
    "\n",
    "print(\"#######################################\")\n",
    "print(\"######## n = 10 ######## coin2 ########\")\n",
    "print(timer(coinSplit, coin2, 10))\n",
    "print(timer(coinSplitDP, coin2, 10))\n",
    "print(timer(coinSplitDPBU, coin2, 10))\n",
    "\n",
    "print(\"######## n = 100 ######## coin2 ########\")\n",
    "print(timer(coinSplit, coin2, 100))\n",
    "print(timer(coinSplitDP, coin2, 100))\n",
    "print(timer(coinSplitDPBU, coin2, 100))\n",
    "\n",
    "\n",
    "print(\"######## n = 1000 ######## coin2 ########\")\n",
    "print(timer(coinSplit, coin2, 1000))\n",
    "print(timer(coinSplitDP, coin2, 1000))\n",
    "print(timer(coinSplitDPBU, coin2, 1000))\n",
    "\n",
    "\"\"\"\n",
    "\n",
    "######## n = 10 ######## coin1 ########\n",
    "1.1920928955078125e-05 seconds\n",
    "2.6941299438476562e-05 seconds\n",
    "3.814697265625e-05 seconds\n",
    "######## n = 100 ######## coin1 ########\n",
    "0.0012688636779785156 seconds\n",
    "0.0001862049102783203 seconds\n",
    "0.00043702125549316406 seconds\n",
    "######## n = 1000 ######## coin1 ########\n",
    "12.912599086761475 seconds\n",
    "0.0018429756164550781 seconds\n",
    "0.004659891128540039 seconds\n",
    "#######################################\n",
    "######## n = 10 ######## coin2 ########\n",
    "4.410743713378906e-05 seconds\n",
    "0.00014591217041015625 seconds\n",
    "0.0007359981536865234 seconds\n",
    "######## n = 100 ######## coin2 ########\n",
    "135.2634608745575 seconds\n",
    "0.00420689582824707 seconds\n",
    "0.008571147918701172 seconds\n",
    "######## n = 1000 ######## coin2 ########\n",
    "\n",
    "\"\"\""
   ]
  },
  {
   "cell_type": "markdown",
   "metadata": {},
   "source": [
    "#### Question 4"
   ]
  },
  {
   "cell_type": "code",
   "execution_count": 25,
   "metadata": {},
   "outputs": [
    {
     "name": "stdout",
     "output_type": "stream",
     "text": [
      "[10, [1]]\n"
     ]
    }
   ],
   "source": [
    "def append(array, val):\n",
    "    newArr = [0 for i in range(len(array)+1)]\n",
    "    for i in range(len(array)):\n",
    "        newArr[i] = array[i]\n",
    "    newArr[len(newArr)-1] = val\n",
    "    return newArr\n",
    "\n",
    "def maxBooksValDP(w, bkWeight, bkVal):\n",
    "    memo = {}\n",
    "    return maxBooksMem(w,bkWeight,bkVal,0,memo)\n",
    "\n",
    "# [ maxVal, inBag]\n",
    "def maxBooksMem(w, bkWeight, bkVal, startBk, memo):\n",
    "    if (w,startBk) in memo:\n",
    "        return memo[w,startBk]\n",
    "    \n",
    "    if startBk == len(bkWeight) or w < bkWeight[startBk]:\n",
    "        memo[w,startBk] = [0, []]\n",
    "    else:\n",
    "        withIt = bkVal[startBk] + maxBooksMem(w-bkWeight[startBk], bkWeight, bkVal, startBk+1, memo)[0]\n",
    "        withoutIt = maxBooksMem(w, bkWeight, bkVal, startBk+1, memo)[0]\n",
    "        \n",
    "        if withIt > withoutIt:\n",
    "            memo[w, startBk] = [withIt, [bkVal[startBk]]]\n",
    "        else:\n",
    "            memo[w,startBk] = [withoutIt, [bkVal[startBk]]]\n",
    "    \n",
    "    return memo[w,startBk]\n",
    "                        # 0 1  2  3  4  5\n",
    "res = maxBooksValDP(100, [1,5,15,50,80,200], [1,2,3,4,5,6])\n",
    "print(res)"
   ]
  },
  {
   "cell_type": "markdown",
   "metadata": {},
   "source": [
    "#### Question 5"
   ]
  }
 ],
 "metadata": {
  "kernelspec": {
   "display_name": "Python 3",
   "language": "python",
   "name": "python3"
  },
  "language_info": {
   "codemirror_mode": {
    "name": "ipython",
    "version": 3
   },
   "file_extension": ".py",
   "mimetype": "text/x-python",
   "name": "python",
   "nbconvert_exporter": "python",
   "pygments_lexer": "ipython3",
   "version": "3.7.3"
  }
 },
 "nbformat": 4,
 "nbformat_minor": 2
}
