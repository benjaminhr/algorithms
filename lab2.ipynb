{
 "cells": [
  {
   "cell_type": "markdown",
   "metadata": {},
   "source": [
    "# Lab 2 notebook\n",
    "\n",
    "We have already prepared some tests for you for Question 1.\n",
    "\n",
    "You can answer the rest of the questions by writing code in new cells at the end of this notebook."
   ]
  },
  {
   "cell_type": "code",
   "execution_count": 4,
   "metadata": {},
   "outputs": [
    {
     "name": "stdout",
     "output_type": "stream",
     "text": [
      "[50, 120, 310, 70, 250]\n",
      "[-50, 120, -310, 70, 250]\n",
      "[5, -12, 31, -7, -25]\n",
      "[]\n",
      "[]\n"
     ]
    }
   ],
   "source": [
    "def multAll(A, k):    \n",
    "    for i in range(len(A)):\n",
    "        A[i] = A[i] * k\n",
    "\n",
    "# test 0\n",
    "A = [5,12,31,7,25]\n",
    "multAll(A, 10)\n",
    "print(A)  # should print [50,120,310,70,250]\n",
    "\n",
    "# test 1\n",
    "A = [-5,12,-31,7,25]\n",
    "multAll(A, 10)\n",
    "print(A)  # should print [-50,120,-310,70,250]\n",
    "\n",
    "# test 2\n",
    "A = [-5,12,-31,7,25]\n",
    "multAll(A, -1)\n",
    "print(A)  # should print [5,-12,31,-7,-25\n",
    "\n",
    "# test 3\n",
    "A = []\n",
    "multAll(A, 10)\n",
    "print(A)  # should print []\n",
    "\n",
    "# test 4\n",
    "A = []\n",
    "multAll(A, -1)\n",
    "print(A)  # should print []"
   ]
  },
  {
   "cell_type": "code",
   "execution_count": 5,
   "metadata": {},
   "outputs": [
    {
     "name": "stdout",
     "output_type": "stream",
     "text": [
      "[50, 120, 310, 70, 250]\n",
      "[5, 12, 31, 7, 25]\n",
      "[-50, 120, -310, 70, 250]\n",
      "[-5, 12, -31, 7, 25]\n",
      "[5, -12, 31, -7, -25]\n",
      "[-5, 12, -31, 7, 25]\n",
      "[]\n",
      "[]\n",
      "[]\n",
      "[]\n"
     ]
    }
   ],
   "source": [
    "def multAll2(A, k):\n",
    "    result = [0 for _ in range(len(A))]\n",
    "    \n",
    "    for i in range(len(A)):\n",
    "        result[i] = A[i] * k\n",
    "        \n",
    "    return result\n",
    "    \n",
    "# test 0\n",
    "A = [5,12,31,7,25]\n",
    "print(multAll2(A, 10))  # should print [50,120,310,70,250]\n",
    "print(A)  # should print [5,12,31,7,25]\n",
    "\n",
    "# test 1\n",
    "A = [-5,12,-31,7,25]\n",
    "print(multAll2(A, 10))  # should print [-50,120,-310,70,250]\n",
    "print(A)  # should print [-5,12,-31,7,25]\n",
    "\n",
    "# test 2\n",
    "A = [-5,12,-31,7,25]\n",
    "print(multAll2(A, -1))  # should print [5,-12,31,-7,-25]\n",
    "print(A)  # should print [-5,12,-31,7,25]\n",
    "\n",
    "# test 3\n",
    "A = []\n",
    "print(multAll2(A, 10))  # should print []\n",
    "print(A)  # should print []\n",
    "\n",
    "# test 4\n",
    "A = []\n",
    "print(multAll2(A, -1))  # should print []\n",
    "print(A)  # should print []"
   ]
  },
  {
   "cell_type": "code",
   "execution_count": 64,
   "metadata": {},
   "outputs": [
    {
     "name": "stdout",
     "output_type": "stream",
     "text": [
      "-1\n",
      "40\n",
      "None\n"
     ]
    }
   ],
   "source": [
    "def biggestIn(A):\n",
    "    biggest = 0\n",
    "    \n",
    "    for i in range(len(A)):\n",
    "        current = A[i]\n",
    "\n",
    "        if current > biggest:\n",
    "            biggest = current\n",
    "    \n",
    "    return biggest\n",
    "\n",
    "a = biggestIn([-1,-2,-3,-4]) \n",
    "print(a) # 4\n",
    "\n",
    "b = biggestIn([5,1,3,40,5,2,1]) \n",
    "print(b) # 40\n",
    "\n",
    "c = biggestIn([])\n",
    "print(c) # 0\n",
    "    "
   ]
  },
  {
   "cell_type": "code",
   "execution_count": 37,
   "metadata": {},
   "outputs": [
    {
     "name": "stdout",
     "output_type": "stream",
     "text": [
      "3\n",
      "4\n",
      "0\n"
     ]
    }
   ],
   "source": [
    "def biggestInPos(A):\n",
    "    biggestNumber = 0\n",
    "    index = 0\n",
    "    \n",
    "    for i in range(len(A)):\n",
    "        current = A[i]\n",
    "        \n",
    "        if current > biggestNumber:\n",
    "            biggestNumber = current\n",
    "            index = i\n",
    "    \n",
    "    return index\n",
    "\n",
    "a = biggestInPos([1,2,3,4]) \n",
    "print(a) # 3\n",
    "\n",
    "b = biggestInPos([5,1,3,10,40,5,2,40,1]) \n",
    "print(b) # 4\n",
    "\n",
    "c = biggestInPos([])\n",
    "print(c) # 0\n",
    "    "
   ]
  },
  {
   "cell_type": "code",
   "execution_count": 57,
   "metadata": {},
   "outputs": [
    {
     "name": "stdout",
     "output_type": "stream",
     "text": [
      "3\n"
     ]
    }
   ],
   "source": [
    "def isIn(arr, elem):    \n",
    "    for i in range(len(arr)): \n",
    "        if arr[i] == elem:\n",
    "            return True\n",
    "    \n",
    "    return False\n",
    "\n",
    "def append(arr, elem):\n",
    "    result = [0 for _ in range(len(arr) + 1)]\n",
    "    \n",
    "    for i in range(len(arr)):\n",
    "        result[i] = arr[i]\n",
    "        \n",
    "    result[len(arr)] = elem\n",
    "    return result\n",
    "\n",
    "def occurInBoth(A, B):\n",
    "    existsInBoth = []\n",
    "    \n",
    "    for i in range(len(A)):\n",
    "        current = A[i]\n",
    "        \n",
    "        if isIn(B, current):\n",
    "            existsInBoth = append(existsInBoth, current)\n",
    "            \n",
    "            \n",
    "    return len(existsInBoth)\n",
    "\n",
    "result = occurInBoth([1,2,3,4,5,6], [3,4,4,5,7,8,9])\n",
    "print(result)"
   ]
  },
  {
   "cell_type": "markdown",
   "metadata": {},
   "source": [
    "### Question 6\n"
   ]
  },
  {
   "cell_type": "code",
   "execution_count": 65,
   "metadata": {},
   "outputs": [
    {
     "name": "stdout",
     "output_type": "stream",
     "text": [
      "[2, 4, 6]\n",
      "[]\n",
      "[2]\n"
     ]
    }
   ],
   "source": [
    "def biggestInAllPos(A):\n",
    "    biggestNumber = 0\n",
    "    indexes = []\n",
    "    \n",
    "    for i in range(len(A)):\n",
    "        current = A[i]\n",
    "        \n",
    "        if biggestNumber == current: \n",
    "            indexes = append(indexes, i)\n",
    "        \n",
    "        if current > biggestNumber:\n",
    "            biggestNumber = current\n",
    "            indexes = append([], i)\n",
    "        \n",
    "    return indexes\n",
    "            \n",
    "\n",
    "a = biggestInAllPos([3,4,5,2,5,4,5,1])\n",
    "print(a)\n",
    "\n",
    "b = biggestInAllPos([])\n",
    "print(b)\n",
    "\n",
    "c = biggestInAllPos([5,12,31,7,25])\n",
    "print(c)"
   ]
  },
  {
   "cell_type": "markdown",
   "metadata": {},
   "source": [
    "### Question 7"
   ]
  },
  {
   "cell_type": "code",
   "execution_count": 63,
   "metadata": {},
   "outputs": [
    {
     "name": "stdout",
     "output_type": "stream",
     "text": [
      "3\n",
      "2\n"
     ]
    }
   ],
   "source": [
    "def isIn(arr, elem):  \n",
    "    low = 0 \n",
    "    high = len(arr) - 1\n",
    "    \n",
    "    while(low <= high):\n",
    "        mid = (low + high) // 2\n",
    "        \n",
    "        if arr[mid] == elem:\n",
    "            return True\n",
    "        \n",
    "        elif elem > arr[mid]:\n",
    "            low = mid + 1\n",
    "        \n",
    "        else:\n",
    "            high = mid - 1\n",
    "        \n",
    "    return False\n",
    "\n",
    "def append(arr, elem):\n",
    "    result = [0 for _ in range(len(arr) + 1)]\n",
    "    \n",
    "    for i in range(len(arr)):\n",
    "        result[i] = arr[i]\n",
    "        \n",
    "    result[len(arr)] = elem\n",
    "    return result\n",
    "\n",
    "def occurInBoth(A, B):\n",
    "    existsInBoth = []\n",
    "    \n",
    "    for i in range(len(A)):\n",
    "        current = A[i]\n",
    "        \n",
    "        if isIn(B, current):\n",
    "            existsInBoth = append(existsInBoth, current)\n",
    "            \n",
    "            \n",
    "    return len(existsInBoth)\n",
    "\n",
    "result = occurInBoth([1,2,3,4,5,6], [3,4,5,7,8,9])\n",
    "print(result)\n",
    "\n",
    "result2 = occurInBoth([10,12,13,15,16], [1,1,2,3,10,15])\n",
    "print(result2)\n"
   ]
  },
  {
   "cell_type": "code",
   "execution_count": null,
   "metadata": {},
   "outputs": [],
   "source": []
  }
 ],
 "metadata": {
  "kernelspec": {
   "display_name": "Python 3",
   "language": "python",
   "name": "python3"
  },
  "language_info": {
   "codemirror_mode": {
    "name": "ipython",
    "version": 3
   },
   "file_extension": ".py",
   "mimetype": "text/x-python",
   "name": "python",
   "nbconvert_exporter": "python",
   "pygments_lexer": "ipython3",
   "version": "3.7.3"
  }
 },
 "nbformat": 4,
 "nbformat_minor": 2
}
